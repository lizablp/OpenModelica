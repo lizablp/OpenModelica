{
 "metadata": {
  "name": "",
  "signature": "sha256:4861804527546582a7f655966fdd5e1f2179c02e819506b864496a86d71e857a"
 },
 "nbformat": 3,
 "nbformat_minor": 0,
 "worksheets": [
  {
   "cells": [
    {
     "cell_type": "heading",
     "level": 3,
     "metadata": {},
     "source": [
      "Setup"
     ]
    },
    {
     "cell_type": "code",
     "collapsed": false,
     "input": [
      "#import sys\n",
      "#sys.path.append('C:\\Users\\u0098668\\Documents\\Modelica\\ModelicaRes')"
     ],
     "language": "python",
     "metadata": {},
     "outputs": [],
     "prompt_number": 1
    },
    {
     "cell_type": "code",
     "collapsed": false,
     "input": [
      "from modelicares.exps.simulators import dymosim, fmi\n",
      "from modelicares import SimResList, SimResSequence\n",
      "%matplotlib inline"
     ],
     "language": "python",
     "metadata": {},
     "outputs": [],
     "prompt_number": 2
    },
    {
     "cell_type": "code",
     "collapsed": false,
     "input": [
      "L = [100, 50, 20, 15] # Inductances"
     ],
     "language": "python",
     "metadata": {},
     "outputs": [],
     "prompt_number": 3
    },
    {
     "cell_type": "heading",
     "level": 3,
     "metadata": {},
     "source": [
      "Dymosim"
     ]
    },
    {
     "cell_type": "code",
     "collapsed": false,
     "input": [
      "with dymosim(results_dir='ChuaCircuit/results') as simulator:\n",
      "    simulator.run('ChuaCircuit/dymosim', StopTime=1)\n",
      "    for l in L:   \n",
      "        simulator.continue_run(1, {'L.L': l})"
     ],
     "language": "python",
     "metadata": {},
     "outputs": [],
     "prompt_number": 4
    },
    {
     "cell_type": "heading",
     "level": 3,
     "metadata": {},
     "source": [
      "FMI"
     ]
    },
    {
     "cell_type": "code",
     "collapsed": false,
     "input": [
      "with fmi(results_dir='ChuaCircuit/results-fmu') as simulator:\n",
      "    #simulator.run('ChuaCircuit/CSCVode.fmu', StopTime=1)\n",
      "    simulator.run('ChuaCircuit/ChuaCircuit.fmu', StopTime=1)\n",
      "    for l in L:   \n",
      "        simulator.continue_run(1, {'L.L': l})"
     ],
     "language": "python",
     "metadata": {},
     "outputs": [
      {
       "output_type": "stream",
       "stream": "stdout",
       "text": [
        "Simulation interval    : 0.0 - 1 seconds.\n",
        "Elapsed simulation time: 0.036441 seconds.\n",
        "Simulation interval    : 1.0 - 2.0 seconds."
       ]
      },
      {
       "output_type": "stream",
       "stream": "stdout",
       "text": [
        "\n",
        "Elapsed simulation time: 0.036377 seconds.\n",
        "Simulation interval    : 2.0 - 3.0 seconds."
       ]
      },
      {
       "output_type": "stream",
       "stream": "stdout",
       "text": [
        "\n",
        "Elapsed simulation time: 0.034834 seconds.\n",
        "Simulation interval    : 3.0 - 4.0 seconds."
       ]
      },
      {
       "output_type": "stream",
       "stream": "stdout",
       "text": [
        "\n",
        "Elapsed simulation time: 0.033969 seconds.\n",
        "Simulation interval    : 4.0 - 5.0 seconds."
       ]
      },
      {
       "output_type": "stream",
       "stream": "stdout",
       "text": [
        "\n",
        "Elapsed simulation time: 0.034474 seconds.\n"
       ]
      }
     ],
     "prompt_number": 5
    },
    {
     "cell_type": "heading",
     "level": 3,
     "metadata": {},
     "source": [
      "Comparison"
     ]
    },
    {
     "cell_type": "code",
     "collapsed": false,
     "input": [
      "sequences = SimResList([SimResSequence('ChuaCircuit/results/1/dsres*'), \n",
      "                        SimResSequence('ChuaCircuit/results-fmu/1/dsres*')])\n",
      "sequences.label = [\"Dymosim\", \"FMI\"]\n",
      "sequences.plot('L.i', title=\"Effect of varying inductance during simulation,\\nevaluated using Dymosim and FMI\");"
     ],
     "language": "python",
     "metadata": {},
     "outputs": [
      {
       "metadata": {},
       "output_type": "display_data",
       "png": "[encoded data removed]",
       "text": [
        "<matplotlib.figure.Figure at 0x7f7ecf8ede50>"
       ]
      }
     ],
     "prompt_number": 6
    }
   ],
   "metadata": {}
  }
 ]
}